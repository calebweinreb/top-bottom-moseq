{
 "cells": [
  {
   "cell_type": "code",
   "execution_count": 30,
   "id": "347a901c",
   "metadata": {},
   "outputs": [],
   "source": [
    "import os\n",
    "from os.path import join, exists\n",
    "from glob import glob\n",
    "import re"
   ]
  },
  {
   "cell_type": "code",
   "execution_count": 31,
   "id": "d408005d",
   "metadata": {},
   "outputs": [],
   "source": [
    "\n",
    "# Assumes a folder structure with /base_path/mouse/session:\n",
    "# base_path\n",
    "# ├── gmou82\n",
    "# │   ├── 20221010_gmou83\n",
    "# │   │   ├── 20221010_gmou83.bottom.depth.avi\n",
    "# │   │   ├── 20221010_gmou83.bottom.device_timestamps.npy\n",
    "# │   │   ├── 20221010_gmou83.bottom.ir.avi\n",
    "# │   │   ├── 20221010_gmou83.bottom.system_timestamps.npy\n",
    "# │   │   ├── 20221010_gmou83.matched_timestamps.npy\n",
    "# │   │   ├── 20221010_gmou83.top.depth.avi\n",
    "# │   │   ├── 20221010_gmou83.top.device_timestamps.npy\n",
    "# │   │   ├── 20221010_gmou83.top.ir.avi\n",
    "# │   │   ├── 20221010_gmou83.top.system_timestamps.npy\n",
    "# │   │   └── 20221010_gmou83.txt\n",
    "#     └── 20221011_gmou83\n",
    "# │       ├── 20221011_gmou83.bottom.depth.avi\n",
    "# │       ├── 20221011_gmou83.bottom.device_timestamps.npy\n",
    "# │       ├── 20221011_gmou83.bottom.ir.avi\n",
    "# │       ├── 20221011_gmou83.bottom.system_timestamps.npy\n",
    "# │       ├── 20221011_gmou83.matched_timestamps.npy\n",
    "# │       ├── 20221011_gmou83.top.depth.avi\n",
    "# │       ├── 20221011_gmou83.top.device_timestamps.npy\n",
    "# │       ├── 20221011_gmou83.top.ir.avi\n",
    "# │       ├── 20221011_gmou83.top.system_timestamps.npy\n",
    "# │       └── 20221011_gmou83.txt\n"
   ]
  },
  {
   "cell_type": "code",
   "execution_count": 32,
   "id": "be6bf83e",
   "metadata": {},
   "outputs": [],
   "source": [
    "# data to use\n",
    "base_path = '/n/groups/datta/Jonah/Thermistor_only_recordings/'\n",
    "mice_to_use = ['gmou77', 'gmou78', 'gmou81', 'gmou83']\n",
    "dates_by_mice = {'gmou77': ['20221013', '20221015'],\n",
    "                 'gmou78': ['20221013'],\n",
    "                 'gmou81': ['20221013', '20221014'],\n",
    "                 'gmou83': ['20221014', '20221015',]}  # or set to None to use all sessions per mouse\n",
    "# dates_by_mice = {'gmou77': ['20221010', '20221012'],\n",
    "#                  'gmou78': ['20221010', '20221012'],\n",
    "#                  'gmou81': ['20221010', '20221012'],\n",
    "#                  'gmou83': ['20221010', '20221011']}  # or set to None to use all sessions per mouse\n",
    "\n",
    "\n",
    "# top bottom params\n",
    "path_to_script = '~/datta-lab/top-bottom-moseq/scripts/process_session.py'\n",
    "path_to_config = 'default'\n",
    "process_command = f'python {path_to_script} {{prefix}} --config-filepath {{path_to_config}} --calibn-file {{calibration_file}}'\n",
    "\n",
    "\n",
    "# either pass a single calibration file...\n",
    "# calibration_mode = 'path'\n",
    "# calibration_path = '/n/groups/datta/Jonah/Thermistor_only_recordings/calibrations/20221010/camera_3D_transforms.p'\n",
    "\n",
    "\n",
    "# ...or pass a dir which has calibration files for each date\n",
    "calibration_mode = 'by_date'\n",
    "calibration_dir = '/n/groups/datta/Jonah/Thermistor_only_recordings/calibrations'  # in which must be nested folders called, eg, 20221008 (YYYYMMDD)\n",
    "calibration_file_names = 'camera_3D_transforms.p'  # all must have same name!\n",
    "date_from_folder_regexp = re.compile('.*/(?P<mouse>gmou\\d*)/(?P<date>\\d{8})_gmou.*')\n",
    "# extractor_from_openEphysFolder = re.compile('.*/(?P<mouse>gmou\\d*)_(?P<date>\\d{4}-\\d{2}-\\d{2})_*')\n",
    "\n",
    "# sbatch params\n",
    "use_sbatch = True  # if false, just output python commands\n",
    "job_time = '16:00:00'\n",
    "mem = '92GB'\n",
    "conda_env = 'top_bottom_moseq_37'\n",
    "sbatch_prefix = f'sbatch -c 1 --mem={mem} -p gpu --gres=gpu:1 -t {job_time} -o {{srun_out_path}} --wrap'\n",
    "wrap_prefix = f'eval \"$(conda shell.bash hook)\"; conda activate {conda_env}; module load gcc/6.2.0 ffmpeg;'\n",
    "outfile_path = './batch_scripts'  # relative to base_path\n",
    "outfile = 'batch_topbottom.sh'  \n"
   ]
  },
  {
   "cell_type": "code",
   "execution_count": 33,
   "id": "65aeb3ea",
   "metadata": {},
   "outputs": [
    {
     "data": {
      "text/plain": [
       "['/n/groups/datta/Jonah/Thermistor_only_recordings/gmou77/20221013_gmou77',\n",
       " '/n/groups/datta/Jonah/Thermistor_only_recordings/gmou77/20221015_gmou77',\n",
       " '/n/groups/datta/Jonah/Thermistor_only_recordings/gmou78/20221013_gmou78',\n",
       " '/n/groups/datta/Jonah/Thermistor_only_recordings/gmou81/20221014_gmou81',\n",
       " '/n/groups/datta/Jonah/Thermistor_only_recordings/gmou81/20221013_gmou81',\n",
       " '/n/groups/datta/Jonah/Thermistor_only_recordings/gmou83/20221015_gmou83',\n",
       " '/n/groups/datta/Jonah/Thermistor_only_recordings/gmou83/20221014_gmou83']"
      ]
     },
     "execution_count": 33,
     "metadata": {},
     "output_type": "execute_result"
    }
   ],
   "source": [
    "# find all sessions to sync.\n",
    "raw_data_folders = []\n",
    "for mouse in mice_to_use:\n",
    "    data_path = os.path.join(base_path, mouse)\n",
    "    dir_contents = os.listdir(data_path)\n",
    "    abs_path_dirs = [os.path.join(data_path,f) for f in dir_contents]\n",
    "    if dates_by_mice:\n",
    "        abs_path_dirs = [f for f in abs_path_dirs if any([date in f for date in dates_by_mice[mouse]])]\n",
    "    data_folders = [f for f in abs_path_dirs if (os.path.isdir(f))]\n",
    "    raw_data_folders.extend(data_folders)\n",
    "raw_data_folders"
   ]
  },
  {
   "cell_type": "code",
   "execution_count": 34,
   "id": "dfdd7c70",
   "metadata": {},
   "outputs": [],
   "source": [
    "if not exists(join(base_path, outfile_path)):\n",
    "    os.makedirs(join(base_path, outfile_path))"
   ]
  },
  {
   "cell_type": "code",
   "execution_count": 36,
   "id": "0c0fad03",
   "metadata": {},
   "outputs": [
    {
     "name": "stdout",
     "output_type": "stream",
     "text": [
      "No calibn file found for /n/groups/datta/Jonah/Thermistor_only_recordings/gmou77/20221013_gmou77/20221013_gmou77, continuing...\n",
      "sbatch -c 1 --mem=92GB -p gpu --gres=gpu:1 -t 16:00:00 -o /n/groups/datta/Jonah/Thermistor_only_recordings/gmou77/20221015_gmou77/%j.out --wrap 'eval \"$(conda shell.bash hook)\"; conda activate top_bottom_moseq_37; module load gcc/6.2.0 ffmpeg; python ~/datta-lab/top-bottom-moseq/scripts/process_session.py /n/groups/datta/Jonah/Thermistor_only_recordings/gmou77/20221015_gmou77/20221015_gmou77 --config-filepath default --calibn-file /n/groups/datta/Jonah/Thermistor_only_recordings/calibrations/20221015/camera_3D_transforms.p;'\n",
      "\n",
      "No calibn file found for /n/groups/datta/Jonah/Thermistor_only_recordings/gmou78/20221013_gmou78/20221013_gmou78, continuing...\n",
      "sbatch -c 1 --mem=92GB -p gpu --gres=gpu:1 -t 16:00:00 -o /n/groups/datta/Jonah/Thermistor_only_recordings/gmou81/20221014_gmou81/%j.out --wrap 'eval \"$(conda shell.bash hook)\"; conda activate top_bottom_moseq_37; module load gcc/6.2.0 ffmpeg; python ~/datta-lab/top-bottom-moseq/scripts/process_session.py /n/groups/datta/Jonah/Thermistor_only_recordings/gmou81/20221014_gmou81/20221014_gmou81 --config-filepath default --calibn-file /n/groups/datta/Jonah/Thermistor_only_recordings/calibrations/20221014/camera_3D_transforms.p;'\n",
      "\n",
      "No calibn file found for /n/groups/datta/Jonah/Thermistor_only_recordings/gmou81/20221013_gmou81/20221013_gmou81, continuing...\n",
      "sbatch -c 1 --mem=92GB -p gpu --gres=gpu:1 -t 16:00:00 -o /n/groups/datta/Jonah/Thermistor_only_recordings/gmou83/20221015_gmou83/%j.out --wrap 'eval \"$(conda shell.bash hook)\"; conda activate top_bottom_moseq_37; module load gcc/6.2.0 ffmpeg; python ~/datta-lab/top-bottom-moseq/scripts/process_session.py /n/groups/datta/Jonah/Thermistor_only_recordings/gmou83/20221015_gmou83/20221015_gmou83 --config-filepath default --calibn-file /n/groups/datta/Jonah/Thermistor_only_recordings/calibrations/20221015/camera_3D_transforms.p;'\n",
      "\n",
      "sbatch -c 1 --mem=92GB -p gpu --gres=gpu:1 -t 16:00:00 -o /n/groups/datta/Jonah/Thermistor_only_recordings/gmou83/20221014_gmou83/%j.out --wrap 'eval \"$(conda shell.bash hook)\"; conda activate top_bottom_moseq_37; module load gcc/6.2.0 ffmpeg; python ~/datta-lab/top-bottom-moseq/scripts/process_session.py /n/groups/datta/Jonah/Thermistor_only_recordings/gmou83/20221014_gmou83/20221014_gmou83 --config-filepath default --calibn-file /n/groups/datta/Jonah/Thermistor_only_recordings/calibrations/20221014/camera_3D_transforms.p;'\n",
      "\n",
      "Saved batch script to /n/groups/datta/Jonah/Thermistor_only_recordings/./batch_scripts/batch_topbottom.sh\n"
     ]
    }
   ],
   "source": [
    "# make the batch script\n",
    "\n",
    "batch_file = join(base_path, outfile_path, outfile)\n",
    "with open(batch_file, 'w') as f:\n",
    "    for i,folder in enumerate(raw_data_folders):\n",
    "        prefix = join(folder, os.path.split(folder)[1])\n",
    "        if calibration_mode=='path':\n",
    "            cf = calibration_path\n",
    "        elif calibration_mode=='by_date':\n",
    "            regexp = re.match(date_from_folder_regexp, prefix)\n",
    "            cf = glob(join(calibration_dir, regexp.group('date'), 'camera_3D_transforms.p'))\n",
    "            if len(cf) == 0:\n",
    "                print(f'No calibn file found for {prefix}, continuing...')\n",
    "                continue\n",
    "            elif len(cf) > 1:\n",
    "                print('Found two calibration files for {prefix}, skipping for now...')\n",
    "            else:\n",
    "                cf = cf[0]\n",
    "        this_command = process_command.format(prefix=prefix, path_to_config=path_to_config, calibration_file=cf)\n",
    "        if use_sbatch:\n",
    "            full_line = f'{sbatch_prefix.format(srun_out_path=join(folder, \"%j.out\"))} \\'{wrap_prefix} {this_command};\\'\\n'\n",
    "        else:\n",
    "            full_line = f'{this_command};\\n'\n",
    "        print(full_line)\n",
    "        f.write(full_line)\n",
    "\n",
    "print(f'Saved batch script to {batch_file}')"
   ]
  },
  {
   "cell_type": "code",
   "execution_count": 7,
   "id": "45ac4adb",
   "metadata": {},
   "outputs": [],
   "source": [
    "# spacer"
   ]
  },
  {
   "cell_type": "code",
   "execution_count": 8,
   "id": "bd4e3b84",
   "metadata": {},
   "outputs": [],
   "source": [
    "# spacer"
   ]
  },
  {
   "cell_type": "code",
   "execution_count": 9,
   "id": "3372b6c9",
   "metadata": {},
   "outputs": [
    {
     "data": {
      "text/plain": [
       "0"
      ]
     },
     "execution_count": 9,
     "metadata": {},
     "output_type": "execute_result"
    }
   ],
   "source": [
    "# make executable\n",
    "os.system(f'chmod u+x {batch_file}')"
   ]
  },
  {
   "cell_type": "code",
   "execution_count": 10,
   "id": "16027698",
   "metadata": {},
   "outputs": [
    {
     "name": "stdout",
     "output_type": "stream",
     "text": [
      "Submitted batch job 63594036\n",
      "Submitted batch job 63594037\n",
      "Submitted batch job 63594038\n",
      "Submitted batch job 63594039\n",
      "Submitted batch job 63594040\n",
      "Submitted batch job 63594041\n",
      "Submitted batch job 63594042\n",
      "Submitted batch job 63594043\n"
     ]
    },
    {
     "data": {
      "text/plain": [
       "0"
      ]
     },
     "execution_count": 10,
     "metadata": {},
     "output_type": "execute_result"
    }
   ],
   "source": [
    "# run the script\n",
    "os.system(f'{batch_file}')"
   ]
  },
  {
   "cell_type": "code",
   "execution_count": null,
   "id": "ea6bc982",
   "metadata": {},
   "outputs": [],
   "source": []
  }
 ],
 "metadata": {
  "kernelspec": {
   "display_name": "top_bottom_moseq_37",
   "language": "python",
   "name": "top_bottom_moseq_37"
  },
  "language_info": {
   "codemirror_mode": {
    "name": "ipython",
    "version": 3
   },
   "file_extension": ".py",
   "mimetype": "text/x-python",
   "name": "python",
   "nbconvert_exporter": "python",
   "pygments_lexer": "ipython3",
   "version": "3.7.13"
  }
 },
 "nbformat": 4,
 "nbformat_minor": 5
}
