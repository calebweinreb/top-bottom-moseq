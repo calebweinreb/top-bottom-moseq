{
 "cells": [
  {
   "cell_type": "code",
   "execution_count": 28,
   "source": [
    "import os\n",
    "from os.path import join, exists"
   ],
   "outputs": [],
   "metadata": {}
  },
  {
   "cell_type": "code",
   "execution_count": 48,
   "source": [
    "\n",
    "# Assumes a folder structure with /base_path/mouse/session:\n",
    "# base_path\n",
    "# ├── gmou82\n",
    "# │   ├── 20221010_gmou83\n",
    "# │   │   ├── 20221010_gmou83.bottom.depth.avi\n",
    "# │   │   ├── 20221010_gmou83.bottom.device_timestamps.npy\n",
    "# │   │   ├── 20221010_gmou83.bottom.ir.avi\n",
    "# │   │   ├── 20221010_gmou83.bottom.system_timestamps.npy\n",
    "# │   │   ├── 20221010_gmou83.matched_timestamps.npy\n",
    "# │   │   ├── 20221010_gmou83.top.depth.avi\n",
    "# │   │   ├── 20221010_gmou83.top.device_timestamps.npy\n",
    "# │   │   ├── 20221010_gmou83.top.ir.avi\n",
    "# │   │   ├── 20221010_gmou83.top.system_timestamps.npy\n",
    "# │   │   └── 20221010_gmou83.txt\n",
    "#     └── 20221011_gmou83\n",
    "# │       ├── 20221011_gmou83.bottom.depth.avi\n",
    "# │       ├── 20221011_gmou83.bottom.device_timestamps.npy\n",
    "# │       ├── 20221011_gmou83.bottom.ir.avi\n",
    "# │       ├── 20221011_gmou83.bottom.system_timestamps.npy\n",
    "# │       ├── 20221011_gmou83.matched_timestamps.npy\n",
    "# │       ├── 20221011_gmou83.top.depth.avi\n",
    "# │       ├── 20221011_gmou83.top.device_timestamps.npy\n",
    "# │       ├── 20221011_gmou83.top.ir.avi\n",
    "# │       ├── 20221011_gmou83.top.system_timestamps.npy\n",
    "# │       └── 20221011_gmou83.txt\n"
   ],
   "outputs": [],
   "metadata": {}
  },
  {
   "cell_type": "code",
   "execution_count": 42,
   "source": [
    "# top bottom params\n",
    "path_to_script = '~/datta-lab/top-bottom-moseq/scripts/process_session.py'\n",
    "path_to_config = '/n/groups/datta/Jonah/Thermistor_only_recordings/top_bottom_dataset2/top_bottom_config.yaml'\n",
    "sync_command = f'python {path_to_script} {{prefix}} {path_to_config}'\n",
    "\n",
    "\n",
    "# data to use\n",
    "base_path = '/n/groups/datta/Jonah/Thermistor_only_recordings/'\n",
    "mice_to_use = ['gmou83']\n",
    "dates_by_mice = {'gmou83': ['20221010', '20221011']}  # or set to None to use all sessions per mouse\n",
    "\n",
    "# sbatch params\n",
    "use_sbatch = True  # if false, just output python commands\n",
    "job_time = '8:00:00'\n",
    "mem = '64GB'\n",
    "conda_env = 'top_bottom_moseq_37'\n",
    "sbatch_prefix = f'sbatch -c 1 --mem={mem} -p gpu --gres=gpu:1 -t {job_time} -o {{srun_out_path}} --wrap'\n",
    "wrap_prefix = f'eval \"$(conda shell.bash hook)\"; conda activate {conda_env}; module load gcc/6.2.0 ffmpeg;'\n",
    "outfile_path = './batch_scripts'  # relative to base_path\n",
    "outfile = 'batch_topbottom_gmou83.sh'  \n"
   ],
   "outputs": [],
   "metadata": {}
  },
  {
   "cell_type": "code",
   "execution_count": 43,
   "source": [
    "# find all sessions to sync.\n",
    "raw_data_folders = []\n",
    "for mouse in mice_to_use:\n",
    "    data_path = os.path.join(base_path, mouse)\n",
    "    dir_contents = os.listdir(data_path)\n",
    "    abs_path_dirs = [os.path.join(data_path,f) for f in dir_contents]\n",
    "    if dates_by_mice:\n",
    "        abs_path_dirs = [f for f in abs_path_dirs if any([date in f for date in dates_by_mice[mouse]])]\n",
    "    data_folders = [f for f in abs_path_dirs if (os.path.isdir(f))]\n",
    "    raw_data_folders.extend(data_folders)\n",
    "raw_data_folders"
   ],
   "outputs": [
    {
     "output_type": "execute_result",
     "data": {
      "text/plain": [
       "['/n/groups/datta/Jonah/Thermistor_only_recordings/gmou83/20221011_gmou83',\n",
       " '/n/groups/datta/Jonah/Thermistor_only_recordings/gmou83/20221010_gmou83']"
      ]
     },
     "metadata": {},
     "execution_count": 43
    }
   ],
   "metadata": {}
  },
  {
   "cell_type": "code",
   "execution_count": 44,
   "source": [
    "if not exists(join(base_path, outfile_path)):\n",
    "    os.makedirs(join(base_path, outfile_path))"
   ],
   "outputs": [],
   "metadata": {}
  },
  {
   "cell_type": "code",
   "execution_count": 45,
   "source": [
    "# make the batch script\n",
    "batch_file = join(base_path, outfile_path, outfile)\n",
    "with open(batch_file, 'w') as f:\n",
    "    for i,folder in enumerate(raw_data_folders):\n",
    "        prefix = join(folder, os.path.split(folder)[1])\n",
    "        this_sync_command = sync_command.format(prefix=prefix)\n",
    "        if use_sbatch:\n",
    "            full_line = f'{sbatch_prefix.format(srun_out_path=join(folder, \"%j.out\"))} \\'{wrap_prefix} {this_sync_command};\\'\\n'\n",
    "        else:\n",
    "            full_line = f'{this_sync_command};\\n'\n",
    "        print(full_line)\n",
    "        f.write(full_line)\n",
    "\n",
    "print(f'Saved batch script to {batch_file}')"
   ],
   "outputs": [
    {
     "output_type": "stream",
     "name": "stdout",
     "text": [
      "sbatch -c 1 --mem=64GB -p gpu --gres=gpu:1 -t 8:00:00 -o /n/groups/datta/Jonah/Thermistor_only_recordings/gmou83/20221011_gmou83 --wrap 'eval \"$(conda shell.bash hook)\"; conda activate top_bottom_moseq_37; module load gcc/6.2.0 ffmpeg; python ~/datta-lab/top-bottom-moseq/scripts/process_session.py /n/groups/datta/Jonah/Thermistor_only_recordings/gmou83/20221011_gmou83/20221011_gmou83 /n/groups/datta/Jonah/Thermistor_only_recordings/top_bottom_dataset2/top_bottom_config.yaml;'\n",
      "\n",
      "sbatch -c 1 --mem=64GB -p gpu --gres=gpu:1 -t 8:00:00 -o /n/groups/datta/Jonah/Thermistor_only_recordings/gmou83/20221010_gmou83 --wrap 'eval \"$(conda shell.bash hook)\"; conda activate top_bottom_moseq_37; module load gcc/6.2.0 ffmpeg; python ~/datta-lab/top-bottom-moseq/scripts/process_session.py /n/groups/datta/Jonah/Thermistor_only_recordings/gmou83/20221010_gmou83/20221010_gmou83 /n/groups/datta/Jonah/Thermistor_only_recordings/top_bottom_dataset2/top_bottom_config.yaml;'\n",
      "\n",
      "Saved batch script to /n/groups/datta/Jonah/Thermistor_only_recordings/./batch_scripts/batch_topbottom_gmou83.sh\n"
     ]
    }
   ],
   "metadata": {}
  },
  {
   "cell_type": "code",
   "execution_count": null,
   "source": [
    "# spacer"
   ],
   "outputs": [],
   "metadata": {}
  },
  {
   "cell_type": "code",
   "execution_count": null,
   "source": [
    "# spacer"
   ],
   "outputs": [],
   "metadata": {}
  },
  {
   "cell_type": "code",
   "execution_count": 46,
   "source": [
    "# make executable\n",
    "os.system(f'chmod u+x {batch_file}')"
   ],
   "outputs": [
    {
     "output_type": "execute_result",
     "data": {
      "text/plain": [
       "0"
      ]
     },
     "metadata": {},
     "execution_count": 46
    }
   ],
   "metadata": {}
  },
  {
   "cell_type": "code",
   "execution_count": 47,
   "source": [
    "# run the script\n",
    "os.system(f'{batch_file}')"
   ],
   "outputs": [
    {
     "output_type": "stream",
     "name": "stdout",
     "text": [
      "Submitted batch job 63449788\n",
      "Submitted batch job 63449789\n"
     ]
    },
    {
     "output_type": "execute_result",
     "data": {
      "text/plain": [
       "0"
      ]
     },
     "metadata": {},
     "execution_count": 47
    }
   ],
   "metadata": {}
  },
  {
   "cell_type": "code",
   "execution_count": null,
   "source": [],
   "outputs": [],
   "metadata": {}
  }
 ],
 "metadata": {
  "kernelspec": {
   "display_name": "top_bottom_moseq_37",
   "language": "python",
   "name": "top_bottom_moseq_37"
  },
  "language_info": {
   "codemirror_mode": {
    "name": "ipython",
    "version": 3
   },
   "file_extension": ".py",
   "mimetype": "text/x-python",
   "name": "python",
   "nbconvert_exporter": "python",
   "pygments_lexer": "ipython3",
   "version": "3.7.13"
  }
 },
 "nbformat": 4,
 "nbformat_minor": 5
}