{
 "cells": [
  {
   "cell_type": "code",
   "execution_count": 24,
   "id": "33a0af84",
   "metadata": {},
   "outputs": [],
   "source": [
    "import os\n",
    "from os.path import join, exists\n",
    "import imageio as iio\n",
    "import numpy as np"
   ]
  },
  {
   "cell_type": "markdown",
   "id": "9e45e329",
   "metadata": {},
   "source": [
    "This notebook uses ffmpeg -- if you don't have it installed, go get it first."
   ]
  },
  {
   "cell_type": "code",
   "execution_count": 25,
   "id": "f6a9135e",
   "metadata": {},
   "outputs": [],
   "source": [
    "# start: hh:mm:ss\n",
    "# to: hh:mm:ii\n",
    "# input / output vids: full paths including extensions\n",
    "trim_command = 'ffmpeg -ss {start} -i {input_vid} -to {end} -c:v copy {output_vid}'\n",
    "\n",
    "start = '00:00:00'\n",
    "end = '00:02:00'\n",
    "input_dir = '/n/groups/datta/Jonah/Thermistor_only_recordings/gmou83/20221011_gmou83/'  # abs path\n",
    "input_vid_name = '20221011_gmou83'  # relative prefix\n",
    "output_dir = '/n/groups/datta/Jonah/gh_topbottom/20221011_validation'  # abs path\n",
    "output_suffix = '_TRIM' \n",
    "\n",
    "input_vid_paths = [f.path for f in os.scandir(input_dir) if '.avi' in f.path]\n",
    "input_vid_paths.sort()\n",
    "output_vids_paths = [join(output_dir, input_vid_name + output_suffix + '.' + cam + '.' + stream + '.avi') for cam in ['bottom', 'top'] for stream in ['depth', 'ir']]"
   ]
  },
  {
   "cell_type": "code",
   "execution_count": 26,
   "id": "b1f67ed5",
   "metadata": {
    "scrolled": true
   },
   "outputs": [
    {
     "name": "stderr",
     "output_type": "stream",
     "text": [
      "ffmpeg version 3.3.3-static http://johnvansickle.com/ffmpeg/  Copyright (c) 2000-2017 the FFmpeg developers\n",
      "  built with gcc 6.4.0 (Debian 6.4.0-2) 20170724\n",
      "  configuration: --enable-gpl --enable-version3 --enable-static --disable-debug --disable-ffplay --disable-indev=sndio --disable-outdev=sndio --cc=gcc-6 --enable-fontconfig --enable-frei0r --enable-gnutls --enable-gray --enable-libass --enable-libfreetype --enable-libfribidi --enable-libmp3lame --enable-libopencore-amrnb --enable-libopencore-amrwb --enable-libopenjpeg --enable-libopus --enable-librtmp --enable-libsoxr --enable-libspeex --enable-libtheora --enable-libvidstab --enable-libvo-amrwbenc --enable-libvorbis --enable-libvpx --enable-libwebp --enable-libx264 --enable-libx265 --enable-libxvid --enable-libzimg\n",
      "  libavutil      55. 58.100 / 55. 58.100\n",
      "  libavcodec     57. 89.100 / 57. 89.100\n",
      "  libavformat    57. 71.100 / 57. 71.100\n",
      "  libavdevice    57.  6.100 / 57.  6.100\n",
      "  libavfilter     6. 82.100 /  6. 82.100\n",
      "  libswscale      4.  6.100 /  4.  6.100\n",
      "  libswresample   2.  7.100 /  2.  7.100\n",
      "  libpostproc    54.  5.100 / 54.  5.100\n",
      "Input #0, avi, from '/n/groups/datta/Jonah/Thermistor_only_recordings/gmou83/20221011_gmou83/20221011_gmou83.bottom.depth.avi':\n",
      "  Metadata:\n",
      "    encoder         : Lavf58.76.100\n",
      "  Duration: 00:59:58.47, start: 0.000000, bitrate: 18291 kb/s\n",
      "    Stream #0:0: Video: ffv1 (FFV1 / 0x31564646), gray16le, 640x576, 18287 kb/s, 30 fps, 30 tbr, 30 tbn, 30 tbc\n",
      "Output #0, avi, to '/n/groups/datta/Jonah/gh_topbottom/20221011_validation/20221011_gmou83_TRIM.bottom.depth.avi':\n",
      "  Metadata:\n",
      "    ISFT            : Lavf57.71.100\n",
      "    Stream #0:0: Video: ffv1 (FFV1 / 0x31564646), gray16le, 640x576, q=2-31, 18287 kb/s, 30 fps, 30 tbr, 30 tbn, 30 tbc\n",
      "Stream mapping:\n",
      "  Stream #0:0 -> #0:0 (copy)\n",
      "Press [q] to stop, [?] for help\n",
      "frame= 3600 fps=2049 q=-1.0 Lsize=  266225kB time=00:02:00.00 bitrate=18174.3kbits/s speed=68.3x    \n",
      "video:266133kB audio:0kB subtitle:0kB other streams:0kB global headers:0kB muxing overhead: 0.034531%\n",
      "ffmpeg version 3.3.3-static http://johnvansickle.com/ffmpeg/  Copyright (c) 2000-2017 the FFmpeg developers\n",
      "  built with gcc 6.4.0 (Debian 6.4.0-2) 20170724\n",
      "  configuration: --enable-gpl --enable-version3 --enable-static --disable-debug --disable-ffplay --disable-indev=sndio --disable-outdev=sndio --cc=gcc-6 --enable-fontconfig --enable-frei0r --enable-gnutls --enable-gray --enable-libass --enable-libfreetype --enable-libfribidi --enable-libmp3lame --enable-libopencore-amrnb --enable-libopencore-amrwb --enable-libopenjpeg --enable-libopus --enable-librtmp --enable-libsoxr --enable-libspeex --enable-libtheora --enable-libvidstab --enable-libvo-amrwbenc --enable-libvorbis --enable-libvpx --enable-libwebp --enable-libx264 --enable-libx265 --enable-libxvid --enable-libzimg\n",
      "  libavutil      55. 58.100 / 55. 58.100\n",
      "  libavcodec     57. 89.100 / 57. 89.100\n",
      "  libavformat    57. 71.100 / 57. 71.100\n",
      "  libavdevice    57.  6.100 / 57.  6.100\n",
      "  libavfilter     6. 82.100 /  6. 82.100\n",
      "  libswscale      4.  6.100 /  4.  6.100\n",
      "  libswresample   2.  7.100 /  2.  7.100\n",
      "  libpostproc    54.  5.100 / 54.  5.100\n",
      "Input #0, avi, from '/n/groups/datta/Jonah/Thermistor_only_recordings/gmou83/20221011_gmou83/20221011_gmou83.bottom.ir.avi':\n",
      "  Metadata:\n",
      "    encoder         : Lavf58.76.100\n",
      "  Duration: 00:59:58.47, start: 0.000000, bitrate: 55098 kb/s\n",
      "    Stream #0:0: Video: ffv1 (FFV1 / 0x31564646), gray16le, 640x576, 55094 kb/s, 30 fps, 30 tbr, 30 tbn, 30 tbc\n",
      "Output #0, avi, to '/n/groups/datta/Jonah/gh_topbottom/20221011_validation/20221011_gmou83_TRIM.bottom.ir.avi':\n",
      "  Metadata:\n",
      "    ISFT            : Lavf57.71.100\n",
      "    Stream #0:0: Video: ffv1 (FFV1 / 0x31564646), gray16le, 640x576, q=2-31, 55094 kb/s, 30 fps, 30 tbr, 30 tbn, 30 tbc\n",
      "Stream mapping:\n",
      "  Stream #0:0 -> #0:0 (copy)\n",
      "Press [q] to stop, [?] for help\n",
      "frame= 3600 fps=1469 q=-1.0 Lsize=  808403kB time=00:02:00.00 bitrate=55187.0kbits/s speed=  49x    \n",
      "video:808311kB audio:0kB subtitle:0kB other streams:0kB global headers:0kB muxing overhead: 0.011369%\n",
      "ffmpeg version 3.3.3-static http://johnvansickle.com/ffmpeg/  Copyright (c) 2000-2017 the FFmpeg developers\n",
      "  built with gcc 6.4.0 (Debian 6.4.0-2) 20170724\n",
      "  configuration: --enable-gpl --enable-version3 --enable-static --disable-debug --disable-ffplay --disable-indev=sndio --disable-outdev=sndio --cc=gcc-6 --enable-fontconfig --enable-frei0r --enable-gnutls --enable-gray --enable-libass --enable-libfreetype --enable-libfribidi --enable-libmp3lame --enable-libopencore-amrnb --enable-libopencore-amrwb --enable-libopenjpeg --enable-libopus --enable-librtmp --enable-libsoxr --enable-libspeex --enable-libtheora --enable-libvidstab --enable-libvo-amrwbenc --enable-libvorbis --enable-libvpx --enable-libwebp --enable-libx264 --enable-libx265 --enable-libxvid --enable-libzimg\n",
      "  libavutil      55. 58.100 / 55. 58.100\n",
      "  libavcodec     57. 89.100 / 57. 89.100\n",
      "  libavformat    57. 71.100 / 57. 71.100\n",
      "  libavdevice    57.  6.100 / 57.  6.100\n",
      "  libavfilter     6. 82.100 /  6. 82.100\n",
      "  libswscale      4.  6.100 /  4.  6.100\n",
      "  libswresample   2.  7.100 /  2.  7.100\n",
      "  libpostproc    54.  5.100 / 54.  5.100\n",
      "Input #0, avi, from '/n/groups/datta/Jonah/Thermistor_only_recordings/gmou83/20221011_gmou83/20221011_gmou83.top.depth.avi':\n",
      "  Metadata:\n",
      "    encoder         : Lavf58.76.100\n",
      "  Duration: 00:59:58.23, start: 0.000000, bitrate: 16059 kb/s\n",
      "    Stream #0:0: Video: ffv1 (FFV1 / 0x31564646), gray16le, 640x576, 16055 kb/s, 30 fps, 30 tbr, 30 tbn, 30 tbc\n",
      "Output #0, avi, to '/n/groups/datta/Jonah/gh_topbottom/20221011_validation/20221011_gmou83_TRIM.top.depth.avi':\n",
      "  Metadata:\n",
      "    ISFT            : Lavf57.71.100\n",
      "    Stream #0:0: Video: ffv1 (FFV1 / 0x31564646), gray16le, 640x576, q=2-31, 16055 kb/s, 30 fps, 30 tbr, 30 tbn, 30 tbc\n",
      "Stream mapping:\n",
      "  Stream #0:0 -> #0:0 (copy)\n",
      "Press [q] to stop, [?] for help\n",
      "frame= 3600 fps=2587 q=-1.0 Lsize=  236798kB time=00:02:00.00 bitrate=16165.4kbits/s speed=86.2x    \n",
      "video:236706kB audio:0kB subtitle:0kB other streams:0kB global headers:0kB muxing overhead: 0.038822%\n",
      "ffmpeg version 3.3.3-static http://johnvansickle.com/ffmpeg/  Copyright (c) 2000-2017 the FFmpeg developers\n",
      "  built with gcc 6.4.0 (Debian 6.4.0-2) 20170724\n",
      "  configuration: --enable-gpl --enable-version3 --enable-static --disable-debug --disable-ffplay --disable-indev=sndio --disable-outdev=sndio --cc=gcc-6 --enable-fontconfig --enable-frei0r --enable-gnutls --enable-gray --enable-libass --enable-libfreetype --enable-libfribidi --enable-libmp3lame --enable-libopencore-amrnb --enable-libopencore-amrwb --enable-libopenjpeg --enable-libopus --enable-librtmp --enable-libsoxr --enable-libspeex --enable-libtheora --enable-libvidstab --enable-libvo-amrwbenc --enable-libvorbis --enable-libvpx --enable-libwebp --enable-libx264 --enable-libx265 --enable-libxvid --enable-libzimg\n",
      "  libavutil      55. 58.100 / 55. 58.100\n",
      "  libavcodec     57. 89.100 / 57. 89.100\n",
      "  libavformat    57. 71.100 / 57. 71.100\n",
      "  libavdevice    57.  6.100 / 57.  6.100\n",
      "  libavfilter     6. 82.100 /  6. 82.100\n",
      "  libswscale      4.  6.100 /  4.  6.100\n",
      "  libswresample   2.  7.100 /  2.  7.100\n",
      "  libpostproc    54.  5.100 / 54.  5.100\n",
      "Input #0, avi, from '/n/groups/datta/Jonah/Thermistor_only_recordings/gmou83/20221011_gmou83/20221011_gmou83.top.ir.avi':\n",
      "  Metadata:\n",
      "    encoder         : Lavf58.76.100\n",
      "  Duration: 00:59:58.23, start: 0.000000, bitrate: 56236 kb/s\n",
      "    Stream #0:0: Video: ffv1 (FFV1 / 0x31564646), gray16le, 640x576, 56232 kb/s, 30 fps, 30 tbr, 30 tbn, 30 tbc\n",
      "Output #0, avi, to '/n/groups/datta/Jonah/gh_topbottom/20221011_validation/20221011_gmou83_TRIM.top.ir.avi':\n",
      "  Metadata:\n",
      "    ISFT            : Lavf57.71.100\n",
      "    Stream #0:0: Video: ffv1 (FFV1 / 0x31564646), gray16le, 640x576, q=2-31, 56232 kb/s, 30 fps, 30 tbr, 30 tbn, 30 tbc\n",
      "Stream mapping:\n",
      "  Stream #0:0 -> #0:0 (copy)\n",
      "Press [q] to stop, [?] for help\n",
      "frame= 3600 fps=680 q=-1.0 Lsize=  824138kB time=00:02:00.00 bitrate=56261.2kbits/s speed=22.7x    \n",
      "video:824046kB audio:0kB subtitle:0kB other streams:0kB global headers:0kB muxing overhead: 0.011148%\n"
     ]
    }
   ],
   "source": [
    "for in_vid, out_vid in zip(input_vid_paths, output_vids_paths):\n",
    "    os.system(trim_command.format(start=start, end=end, input_vid=in_vid, output_vid=out_vid))"
   ]
  },
  {
   "cell_type": "code",
   "execution_count": 29,
   "id": "fc95486a",
   "metadata": {},
   "outputs": [],
   "source": [
    "timestamp_paths = [f.path for f in os.scandir(input_dir) if '.npy' in f.path and 'matched' not in f.path]\n",
    "timestamp_paths.sort()\n",
    "output_ts_paths = [join(output_dir, input_vid_name + output_suffix + '.' + cam + '.' + stream + '.npy') for cam in ['bottom', 'top'] for stream in ['device_timestamps', 'system_timestamps']]\n",
    "for out_vid, ts_in_path, ts_out_path in zip(output_vids_paths, timestamp_paths, output_ts_paths):\n",
    "    nframes = iio.get_reader(out_vid).count_frames()  # should be quick since they're short videos\n",
    "    all_ts = np.load(ts_in_path)\n",
    "    np.save(ts_out_path, all_ts[0:nframes])\n",
    "    "
   ]
  }
 ],
 "metadata": {
  "kernelspec": {
   "display_name": "Python 3 (ipykernel)",
   "language": "python",
   "name": "python3"
  },
  "language_info": {
   "codemirror_mode": {
    "name": "ipython",
    "version": 3
   },
   "file_extension": ".py",
   "mimetype": "text/x-python",
   "name": "python",
   "nbconvert_exporter": "python",
   "pygments_lexer": "ipython3",
   "version": "3.7.13"
  }
 },
 "nbformat": 4,
 "nbformat_minor": 5
}
