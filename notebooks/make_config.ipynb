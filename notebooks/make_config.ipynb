{
 "cells": [
  {
   "cell_type": "code",
   "execution_count": 1,
   "metadata": {},
   "outputs": [],
   "source": [
    "import yaml\n",
    "import os\n",
    "from os.path import join, exists\n",
    "from top_bottom_moseq.util import save_config"
   ]
  },
  {
   "cell_type": "code",
   "execution_count": 2,
   "metadata": {},
   "outputs": [],
   "source": [
    "base_path = '/n/groups/datta/Jonah/Thermistor_only_recordings/top_bottom_dataset2'  # where to save the config file\n",
    "config_name = 'top_bottom_config.yaml'  # name of the config file\n",
    "overwrite_config = True  # overwrite if exists?\n",
    "\n",
    "\n",
    "# Parameters for the config file\n",
    "intrinsics_prefix = '/n/groups/datta/Jonah/Thermistor_only_recordings/top_bottom_dataset2/intrinsics/JP_rig'\n",
    "transforms_path = '/n/groups/datta/Jonah/Thermistor_only_recordings/calibrations/20221010/camera_3D_transforms.p'\n",
    "mouse_segmentation_weights = '/n/groups/datta/caleb/21_2_19_segmentation_redux/public_top_bottom/weights/unet_mouse_v2_IRonly.pt'\n",
    "occlusion_segmentation_weights = '/n/groups/datta/caleb/21_2_19_segmentation_redux/public_top_bottom/weights/unet_occl_v4.pt'\n",
    "inpainting_weights = '/n/groups/datta/caleb/21_2_19_segmentation_redux/public_top_bottom/train_inpainting/weights/{}-unet-intermediate.pt'\n",
    "localization_weights = '/n/groups/datta/caleb/21_2_19_segmentation_redux/public_top_bottom/dim_reduction/weights/localizationNet_temporal.pt'\n",
    "autoencoder_weights = '/n/groups/datta/caleb/21_2_19_segmentation_redux/public_top_bottom/dim_reduction/weights/autoencoder_temporal.pt'\n"
   ]
  },
  {
   "cell_type": "code",
   "execution_count": 3,
   "metadata": {},
   "outputs": [],
   "source": [
    "\n",
    "# Make the dictionary\n",
    "config = {}\n",
    "config['intrinsics_prefix'] = intrinsics_prefix\n",
    "config['transforms_path'] = transforms_path\n",
    "config['mouse_segmentation_weights'] = mouse_segmentation_weights\n",
    "config['occlusion_segmentation_weights'] = occlusion_segmentation_weights\n",
    "config['inpainting_weights'] = inpainting_weights\n",
    "config['localization_weights'] = localization_weights\n",
    "config['autoencoder_weights'] = autoencoder_weights\n",
    "\n",
    "# Get full path to desired config file\n",
    "config_fname = join(base_path, config_name)\n",
    "\n",
    "# Save as YAML if doesn't exist or if overwriting\n",
    "if exists(config_fname) and not overwrite_config:\n",
    "    print('Config file exists, not overwriting...')\n",
    "else:\n",
    "    save_config(config, config_fname)\n"
   ]
  },
  {
   "cell_type": "code",
   "execution_count": 4,
   "metadata": {},
   "outputs": [
    {
     "data": {
      "text/plain": [
       "{'intrinsics_prefix': '/n/groups/datta/Jonah/Thermistor_only_recordings/top_bottom_dataset2/intrinsics/JP_rig',\n",
       " 'transforms_path': '/n/groups/datta/Jonah/Thermistor_only_recordings/calibrations/20221010/camera_3D_transforms.p',\n",
       " 'mouse_segmentation_weights': '/n/groups/datta/caleb/21_2_19_segmentation_redux/public_top_bottom/weights/unet_mouse_v2_IRonly.pt',\n",
       " 'occlusion_segmentation_weights': '/n/groups/datta/caleb/21_2_19_segmentation_redux/public_top_bottom/weights/unet_occl_v4.pt',\n",
       " 'inpainting_weights': '/n/groups/datta/caleb/21_2_19_segmentation_redux/public_top_bottom/train_inpainting/weights/{}-unet-intermediate.pt',\n",
       " 'localization_weights': '/n/groups/datta/caleb/21_2_19_segmentation_redux/public_top_bottom/dim_reduction/weights/localizationNet_temporal.pt',\n",
       " 'autoencoder_weights': '/n/groups/datta/caleb/21_2_19_segmentation_redux/public_top_bottom/dim_reduction/weights/autoencoder_temporal.pt'}"
      ]
     },
     "execution_count": 4,
     "metadata": {},
     "output_type": "execute_result"
    }
   ],
   "source": [
    "config"
   ]
  },
  {
   "cell_type": "code",
   "execution_count": null,
   "metadata": {},
   "outputs": [],
   "source": []
  }
 ],
 "metadata": {
  "kernelspec": {
   "display_name": "Python 3 (ipykernel)",
   "language": "python",
   "name": "python3"
  },
  "language_info": {
   "codemirror_mode": {
    "name": "ipython",
    "version": 3
   },
   "file_extension": ".py",
   "mimetype": "text/x-python",
   "name": "python",
   "nbconvert_exporter": "python",
   "pygments_lexer": "ipython3",
   "version": "3.7.13"
  }
 },
 "nbformat": 4,
 "nbformat_minor": 2
}
