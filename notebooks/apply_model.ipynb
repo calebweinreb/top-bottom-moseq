{
 "cells": [
  {
   "cell_type": "markdown",
   "id": "60df3e3f",
   "metadata": {},
   "source": [
    "# Apply the model to get state sequences\n",
    "* This section requires GPU + CUDA\n",
    "* use the top_bottom_moseq_37 env"
   ]
  },
  {
   "cell_type": "code",
   "execution_count": 2,
   "id": "piano-tomorrow",
   "metadata": {},
   "outputs": [],
   "source": [
    "import matplotlib.pyplot as plt\n",
    "import jax, jax.numpy as jnp\n",
    "import tqdm as tqdm\n",
    "import numpy as np\n",
    "import glob\n",
    "import joblib\n",
    "from os.path import join, exists\n",
    "\n",
    "from keypoint_moseq.util import *\n",
    "from keypoint_moseq.gibbs import *\n",
    "from keypoint_moseq.initialize import *"
   ]
  },
  {
   "cell_type": "code",
   "execution_count": 7,
   "id": "4044e1ac",
   "metadata": {},
   "outputs": [
    {
     "data": {
      "text/plain": [
       "['/n/groups/datta/Jonah/Thermistor_only_recordings/gmou81/20221012_gmou81/20221012_gmou81.latents.npy',\n",
       " '/n/groups/datta/Jonah/Thermistor_only_recordings/gmou81/20221010_gmou81/20221010_gmou81.latents.npy',\n",
       " '/n/groups/datta/Jonah/Thermistor_only_recordings/gmou81/20221013_gmou81/20221013_gmou81.latents.npy',\n",
       " '/n/groups/datta/Jonah/Thermistor_only_recordings/gmou78/20221010_gmou78/20221010_gmou78.latents.npy',\n",
       " '/n/groups/datta/Jonah/Thermistor_only_recordings/gmou78/20221012_gmou78/20221012_gmou78.latents.npy',\n",
       " '/n/groups/datta/Jonah/Thermistor_only_recordings/gmou78/20221013_gmou78/20221013_gmou78.latents.npy',\n",
       " '/n/groups/datta/Jonah/Thermistor_only_recordings/gmou83/20221015_gmou83/20221015_gmou83.latents.npy',\n",
       " '/n/groups/datta/Jonah/Thermistor_only_recordings/gmou83/20221013_gmou83/20221013_gmou83.latents.npy',\n",
       " '/n/groups/datta/Jonah/Thermistor_only_recordings/gmou83/20221014_gmou83/20221014_gmou83.latents.npy',\n",
       " '/n/groups/datta/Jonah/Thermistor_only_recordings/gmou83/20221011_gmou83/20221011_gmou83.latents.npy',\n",
       " '/n/groups/datta/Jonah/Thermistor_only_recordings/gmou83/20221010_gmou83/20221010_gmou83.latents.npy',\n",
       " '/n/groups/datta/Jonah/Thermistor_only_recordings/gmou77/20221013_gmou77/20221013_gmou77.latents.npy',\n",
       " '/n/groups/datta/Jonah/Thermistor_only_recordings/gmou77/20221015_gmou77/20221015_gmou77.latents.npy',\n",
       " '/n/groups/datta/Jonah/Thermistor_only_recordings/gmou77/20221010_gmou77/20221010_gmou77.latents.npy',\n",
       " '/n/groups/datta/Jonah/Thermistor_only_recordings/gmou77/20221012_gmou77/20221012_gmou77.latents.npy']"
      ]
     },
     "execution_count": 7,
     "metadata": {},
     "output_type": "execute_result"
    }
   ],
   "source": [
    "# make a list of sessions to include\n",
    "exclude_patterns = ['wavelet']\n",
    "latents_paths = glob.glob('/n/groups/datta/Jonah/Thermistor_only_recordings/*/202210*/*latents.npy')\n",
    "latents_paths = [lp for lp in latents_paths if not any([ep in lp for ep in exclude_patterns])]\n",
    "overwrite = False\n",
    "latents_paths"
   ]
  },
  {
   "cell_type": "code",
   "execution_count": 8,
   "id": "214c89a2",
   "metadata": {},
   "outputs": [],
   "source": [
    "# load model\n",
    "# model_path = '/n/groups/datta/caleb/21_2_19_segmentation_redux/tb_jonah/moseq_model_only20_iters.p'\n",
    "# model_path = '/n/groups/datta/Jonah/Thermistor_only_recordings/top_bottom_dataset3/moseq_model.p'  # kappa 1e6\n",
    "model_path = '/n/groups/datta/Jonah/Thermistor_only_recordings/top_bottom_dataset3/moseq_model_kappa5e6.p'\n",
    "saved_model = joblib.load(model_path)"
   ]
  },
  {
   "cell_type": "code",
   "execution_count": 9,
   "id": "2b085069",
   "metadata": {},
   "outputs": [],
   "source": [
    "data_dict = {p.split('.latents.npy')[0]:np.load(p).squeeze() for p in latents_paths}"
   ]
  },
  {
   "cell_type": "code",
   "execution_count": 13,
   "id": "running-electricity",
   "metadata": {},
   "outputs": [
    {
     "name": "stderr",
     "output_type": "stream",
     "text": [
      "\r",
      "  0%|                                                                                        | 0/15 [00:00<?, ?it/s]"
     ]
    },
    {
     "name": "stdout",
     "output_type": "stream",
     "text": [
      "/n/groups/datta/Jonah/Thermistor_only_recordings/gmou81/20221012_gmou81/20221012_gmou81.stateseq.npy exists, continuing...\n",
      "/n/groups/datta/Jonah/Thermistor_only_recordings/gmou81/20221010_gmou81/20221010_gmou81.stateseq.npy exists, continuing...\n",
      "/n/groups/datta/Jonah/Thermistor_only_recordings/gmou81/20221013_gmou81/20221013_gmou81.stateseq.npy exists, continuing...\n",
      "/n/groups/datta/Jonah/Thermistor_only_recordings/gmou78/20221010_gmou78/20221010_gmou78.stateseq.npy exists, continuing...\n",
      "/n/groups/datta/Jonah/Thermistor_only_recordings/gmou78/20221012_gmou78/20221012_gmou78.stateseq.npy exists, continuing...\n",
      "/n/groups/datta/Jonah/Thermistor_only_recordings/gmou78/20221013_gmou78/20221013_gmou78.stateseq.npy exists, continuing...\n",
      "/n/groups/datta/Jonah/Thermistor_only_recordings/gmou83/20221015_gmou83/20221015_gmou83.stateseq.npy exists, continuing...\n"
     ]
    },
    {
     "name": "stderr",
     "output_type": "stream",
     "text": [
      "\r",
      " 53%|██████████████████████████████████████████▋                                     | 8/15 [00:08<00:07,  1.02s/it]"
     ]
    },
    {
     "name": "stdout",
     "output_type": "stream",
     "text": [
      "/n/groups/datta/Jonah/Thermistor_only_recordings/gmou83/20221014_gmou83/20221014_gmou83.stateseq.npy exists, continuing...\n"
     ]
    },
    {
     "name": "stderr",
     "output_type": "stream",
     "text": [
      "100%|███████████████████████████████████████████████████████████████████████████████| 15/15 [00:14<00:00,  1.02it/s]"
     ]
    },
    {
     "name": "stdout",
     "output_type": "stream",
     "text": [
      "/n/groups/datta/Jonah/Thermistor_only_recordings/gmou83/20221010_gmou83/20221010_gmou83.stateseq.npy exists, continuing...\n",
      "/n/groups/datta/Jonah/Thermistor_only_recordings/gmou77/20221013_gmou77/20221013_gmou77.stateseq.npy exists, continuing...\n",
      "/n/groups/datta/Jonah/Thermistor_only_recordings/gmou77/20221015_gmou77/20221015_gmou77.stateseq.npy exists, continuing...\n",
      "/n/groups/datta/Jonah/Thermistor_only_recordings/gmou77/20221010_gmou77/20221010_gmou77.stateseq.npy exists, continuing...\n",
      "/n/groups/datta/Jonah/Thermistor_only_recordings/gmou77/20221012_gmou77/20221012_gmou77.stateseq.npy exists, continuing...\n"
     ]
    },
    {
     "name": "stderr",
     "output_type": "stream",
     "text": [
      "\n"
     ]
    }
   ],
   "source": [
    "# make sure to shut down any other notebooks using GPU resources before running this cell\n",
    "\n",
    "key = jr.PRNGKey(0)\n",
    "model_params = {k:jnp.array(v) for k,v in saved_model['params'].items()}\n",
    "whitening_params = [jnp.array(v) for v in saved_model['whitening_params']]\n",
    "\n",
    "for path in tqdm.tqdm(latents_paths):\n",
    "    \n",
    "    out_path = path.replace('.latents.npy','.stateseq.npy')\n",
    "    if exists(out_path) and not overwrite:\n",
    "        print(f'{out_path} exists, continuing...') \n",
    "        continue\n",
    "    \n",
    "    x = jnp.load(path).squeeze()[None]\n",
    "    mask = jnp.ones(x.shape[:2])\n",
    "    \n",
    "    x = whiten_all(x,mask, params=whitening_params)[0]\n",
    "    stateseq = resample_stateseqs(key, x=x, mask=mask, **model_params)[0]\n",
    "    stateseq = np.array(stateseq).squeeze()\n",
    "    \n",
    "    np.save(out_path, stateseq)"
   ]
  },
  {
   "cell_type": "markdown",
   "id": "b79472b1",
   "metadata": {},
   "source": [
    "# Get sorted usages and simple scalars\n",
    "* This part can be run on its own without a GPU\n",
    "* use the dataPy_NWB env"
   ]
  },
  {
   "cell_type": "markdown",
   "id": "92d6b721",
   "metadata": {},
   "source": [
    "### Sorted usages"
   ]
  },
  {
   "cell_type": "code",
   "execution_count": 1,
   "id": "fc4a38d9",
   "metadata": {},
   "outputs": [],
   "source": [
    "from copy import copy\n",
    "from glob import glob\n",
    "import numpy as np\n",
    "from os.path import exists\n",
    "from moseq_fo.util import timeseries_utils as tsu"
   ]
  },
  {
   "cell_type": "code",
   "execution_count": 2,
   "id": "5ae29d55",
   "metadata": {},
   "outputs": [],
   "source": [
    "def get_dict_map_np(my_dict):\n",
    "    return np.vectorize(my_dict.get)"
   ]
  },
  {
   "cell_type": "code",
   "execution_count": 7,
   "id": "25190dd0",
   "metadata": {},
   "outputs": [
    {
     "data": {
      "text/plain": [
       "['/n/groups/datta/Jonah/Thermistor_only_recordings/gmou81/20221012_gmou81/20221012_gmou81',\n",
       " '/n/groups/datta/Jonah/Thermistor_only_recordings/gmou81/20221010_gmou81/20221010_gmou81',\n",
       " '/n/groups/datta/Jonah/Thermistor_only_recordings/gmou81/20221013_gmou81/20221013_gmou81',\n",
       " '/n/groups/datta/Jonah/Thermistor_only_recordings/gmou78/20221010_gmou78/20221010_gmou78',\n",
       " '/n/groups/datta/Jonah/Thermistor_only_recordings/gmou78/20221012_gmou78/20221012_gmou78',\n",
       " '/n/groups/datta/Jonah/Thermistor_only_recordings/gmou78/20221013_gmou78/20221013_gmou78',\n",
       " '/n/groups/datta/Jonah/Thermistor_only_recordings/gmou83/20221015_gmou83/20221015_gmou83',\n",
       " '/n/groups/datta/Jonah/Thermistor_only_recordings/gmou83/20221013_gmou83/20221013_gmou83',\n",
       " '/n/groups/datta/Jonah/Thermistor_only_recordings/gmou83/20221014_gmou83/20221014_gmou83',\n",
       " '/n/groups/datta/Jonah/Thermistor_only_recordings/gmou83/20221011_gmou83/20221011_gmou83',\n",
       " '/n/groups/datta/Jonah/Thermistor_only_recordings/gmou83/20221010_gmou83/20221010_gmou83',\n",
       " '/n/groups/datta/Jonah/Thermistor_only_recordings/gmou77/20221013_gmou77/20221013_gmou77',\n",
       " '/n/groups/datta/Jonah/Thermistor_only_recordings/gmou77/20221015_gmou77/20221015_gmou77',\n",
       " '/n/groups/datta/Jonah/Thermistor_only_recordings/gmou77/20221010_gmou77/20221010_gmou77',\n",
       " '/n/groups/datta/Jonah/Thermistor_only_recordings/gmou77/20221012_gmou77/20221012_gmou77']"
      ]
     },
     "execution_count": 7,
     "metadata": {},
     "output_type": "execute_result"
    }
   ],
   "source": [
    "# Save states labeled by usage-sorted syllable\n",
    "\n",
    "# use 77,78,81 data for sorting / ranking the syllables\n",
    "prefixes_to_sort = ['/n/groups/datta/Jonah/Thermistor_only_recordings/gmou81/20221012_gmou81/20221012_gmou81',\n",
    " '/n/groups/datta/Jonah/Thermistor_only_recordings/gmou81/20221010_gmou81/20221010_gmou81',\n",
    " '/n/groups/datta/Jonah/Thermistor_only_recordings/gmou81/20221013_gmou81/20221013_gmou81',\n",
    " '/n/groups/datta/Jonah/Thermistor_only_recordings/gmou78/20221010_gmou78/20221010_gmou78',\n",
    " '/n/groups/datta/Jonah/Thermistor_only_recordings/gmou78/20221012_gmou78/20221012_gmou78',\n",
    " '/n/groups/datta/Jonah/Thermistor_only_recordings/gmou78/20221013_gmou78/20221013_gmou78',\n",
    " '/n/groups/datta/Jonah/Thermistor_only_recordings/gmou77/20221013_gmou77/20221013_gmou77',\n",
    " '/n/groups/datta/Jonah/Thermistor_only_recordings/gmou77/20221015_gmou77/20221015_gmou77',\n",
    " '/n/groups/datta/Jonah/Thermistor_only_recordings/gmou77/20221010_gmou77/20221010_gmou77',\n",
    " '/n/groups/datta/Jonah/Thermistor_only_recordings/gmou77/20221012_gmou77/20221012_gmou77']\n",
    "\n",
    "# apply to 83 as well (and anyone else that this model is applied to)\n",
    "prefixes_to_apply = glob('/n/groups/datta/Jonah/Thermistor_only_recordings/*/202210*/*.latents.npy')\n",
    "prefixes_to_apply = [path.split('.')[0] for path in prefixes_to_apply]\n",
    "\n",
    "\n",
    "overwrite = True\n",
    "num_states = 100\n",
    "\n",
    "prefixes_to_apply"
   ]
  },
  {
   "cell_type": "code",
   "execution_count": 8,
   "id": "6e704faa",
   "metadata": {},
   "outputs": [
    {
     "name": "stdout",
     "output_type": "stream",
     "text": [
      "98 total syllables used\n"
     ]
    }
   ],
   "source": [
    "# Load all the stateseqs to be used for usage ranking\n",
    "stateseqs = np.hstack([np.load(prefix+'.stateseq.npy') for prefix in prefixes_to_sort])\n",
    "uq_states = np.unique(stateseqs)\n",
    "uq_states = uq_states[~np.isnan(uq_states)]\n",
    "\n",
    "# bad old way -- uses total frame nums\n",
    "# usage_rank = np.argsort(np.argsort(np.bincount(np.hstack(stateseqs), minlength=100))[::-1])\n",
    "\n",
    "# good way -- uses num syl instances\n",
    "durations, start_idx, stateseq_no_rep = tsu.rle(stateseqs)\n",
    "syl_counts = np.bincount(stateseq_no_rep, minlength=num_states)\n",
    "relabeled = np.argsort(np.argsort(syl_counts)[::-1])  # most-used is 0, next is 1, etc\n",
    "orig2sorted = {orig:lab for orig,lab in zip(np.arange(num_states), relabeled)}\n",
    "mapping = get_dict_map_np(orig2sorted)\n",
    "print(f'{(syl_counts>0).sum()} total syllables used')"
   ]
  },
  {
   "cell_type": "code",
   "execution_count": 11,
   "id": "grateful-fault",
   "metadata": {},
   "outputs": [],
   "source": [
    "for prefix in prefixes_to_apply:\n",
    "    stateseq = np.load(prefix+'.stateseq.npy')\n",
    "    stateseq_usage = mapping(stateseq)\n",
    "    usage_npy = prefix+'.state_usage_ranks.npy'\n",
    "    stateseq_sorted_npy = prefix+'.stateseq_usage_sorted.npy'\n",
    "    if exists(usage_npy) and not overwrite:\n",
    "        continue\n",
    "    else:\n",
    "        np.save(usage_npy, relabeled)\n",
    "        \n",
    "    if exists(stateseq_sorted_npy) and not overwrite:\n",
    "        continue\n",
    "    else:\n",
    "        np.save(stateseq_sorted_npy, stateseq_usage)"
   ]
  },
  {
   "cell_type": "markdown",
   "id": "ac9abcac",
   "metadata": {},
   "source": [
    "### Simple scalars"
   ]
  },
  {
   "cell_type": "code",
   "execution_count": 27,
   "id": "572798fb",
   "metadata": {},
   "outputs": [],
   "source": [
    "from top_bottom_moseq.util import *\n",
    "from top_bottom_moseq.io import videoReader\n",
    "import re \n",
    "from os.path import join, exists\n",
    "import pickle"
   ]
  },
  {
   "cell_type": "code",
   "execution_count": 21,
   "id": "a14ec904",
   "metadata": {},
   "outputs": [],
   "source": [
    "def vec_to_angle(v, degrees=False):\n",
    "    a = np.arctan(v[:,1]/v[:,0]) + np.pi*(v[:,0]>0)\n",
    "    if degrees: a = a / np.pi * 180\n",
    "    return a\n",
    "\n",
    "def angle_to_vec(a, degrees=False):\n",
    "    if degrees: a = a / 180 * np.pi \n",
    "    return -np.hstack([np.cos(a)[:,None],np.sin(a)[:,None]])\n",
    "\n",
    "def camera_project(points, camera_transform, intrinsics):\n",
    "    R,t = camera_transform\n",
    "    if points.shape[1]==2: points = np.hstack((points,np.zeros((points.shape[0],1))))\n",
    "    return cv2.projectPoints((points-t).dot(R),(0,0,0),(0,0,0),*intrinsics)[0]\n",
    "\n",
    "def scalars_to_cameraspace(scalars, camera_transform, intrinsics):\n",
    "    centroid = camera_project(scalars[:,:2], camera_transform, intrinsics)[:,0,:]\n",
    "    head = camera_project(scalars[:,:2] + angle_to_vec(scalars[:,2]), camera_transform, intrinsics)[:,0,:]\n",
    "    angle = vec_to_angle(head-centroid)\n",
    "    return np.hstack((centroid, angle[:,None], scalars[:,3][:,None]))\n",
    "\n",
    "\n",
    "def get_calibration_file(calibration_dir, date=None, date_regexp=None, current_prefix=None):\n",
    "    \"\"\" Find calibration file corresponding to given date, or via regexp + prefix.\n",
    "    \"\"\"\n",
    "    if date is not None:\n",
    "        cf = glob(join(calibration_dir, date, 'camera_3D_transforms.p'))\n",
    "    else:    \n",
    "        regexp = re.match(date_from_folder_regexp, prefix)\n",
    "        cf = glob(join(calibration_dir, regexp.group('date'), 'camera_3D_transforms.p'))\n",
    "    \n",
    "    if len(cf) == 0:\n",
    "        print(f'No calibn file found for {prefix}, continuing...')\n",
    "    elif len(cf) > 1:\n",
    "        print('Found two calibration files for {prefix}, skipping for now...')\n",
    "    else:\n",
    "        cf = cf[0]\n",
    "    return cf"
   ]
  },
  {
   "cell_type": "code",
   "execution_count": 22,
   "id": "d591c1c8",
   "metadata": {},
   "outputs": [],
   "source": [
    "calibration_dir = '/n/groups/datta/Jonah/Thermistor_only_recordings/calibrations'  # in which must be nested folders called, eg, 20221008 (YYYYMMDD)\n",
    "calibration_file_names = 'camera_3D_transforms.p'  # all must have same name!\n",
    "date_from_folder_regexp = re.compile('.*/(?P<mouse>gmou\\d*)/(?P<date>\\d{8})_gmou.*')\n",
    "intrinsics_prefix = '/n/groups/datta/Jonah/gh_topbottom/intrinsics/JP_rig'\n",
    "intrinsics = {name:load_intrinsics(intrinsics_prefix+'.'+name+'.json') for name in ['top','bottom']}\n",
    "camera_names = ['top','bottom']\n",
    "\n",
    "overwrite = False"
   ]
  },
  {
   "cell_type": "code",
   "execution_count": 28,
   "id": "e714ccad",
   "metadata": {},
   "outputs": [
    {
     "name": "stdout",
     "output_type": "stream",
     "text": [
      "/n/groups/datta/Jonah/Thermistor_only_recordings/gmou81/20221012_gmou81/20221012_gmou81\n",
      "/n/groups/datta/Jonah/Thermistor_only_recordings/gmou81/20221010_gmou81/20221010_gmou81\n",
      "/n/groups/datta/Jonah/Thermistor_only_recordings/gmou81/20221013_gmou81/20221013_gmou81\n",
      "/n/groups/datta/Jonah/Thermistor_only_recordings/gmou78/20221010_gmou78/20221010_gmou78\n",
      "/n/groups/datta/Jonah/Thermistor_only_recordings/gmou78/20221012_gmou78/20221012_gmou78\n",
      "/n/groups/datta/Jonah/Thermistor_only_recordings/gmou78/20221013_gmou78/20221013_gmou78\n",
      "/n/groups/datta/Jonah/Thermistor_only_recordings/gmou83/20221015_gmou83/20221015_gmou83\n",
      "/n/groups/datta/Jonah/Thermistor_only_recordings/gmou83/20221013_gmou83/20221013_gmou83\n",
      "/n/groups/datta/Jonah/Thermistor_only_recordings/gmou83/20221014_gmou83/20221014_gmou83\n",
      "/n/groups/datta/Jonah/Thermistor_only_recordings/gmou83/20221011_gmou83/20221011_gmou83\n",
      "/n/groups/datta/Jonah/Thermistor_only_recordings/gmou83/20221010_gmou83/20221010_gmou83\n",
      "/n/groups/datta/Jonah/Thermistor_only_recordings/gmou77/20221013_gmou77/20221013_gmou77\n",
      "/n/groups/datta/Jonah/Thermistor_only_recordings/gmou77/20221015_gmou77/20221015_gmou77\n",
      "/n/groups/datta/Jonah/Thermistor_only_recordings/gmou77/20221010_gmou77/20221010_gmou77\n",
      "/n/groups/datta/Jonah/Thermistor_only_recordings/gmou77/20221012_gmou77/20221012_gmou77\n"
     ]
    }
   ],
   "source": [
    "scalars_dict = {}\n",
    "for prefix in prefixes_to_apply:\n",
    "    print(prefix)\n",
    "    scalars_dict[prefix] = {}\n",
    "    \n",
    "    # Load moseq data\n",
    "    thetas = np.load(prefix+'.thetas.npy').squeeze()\n",
    "    crop_origins = np.load(prefix+'.crop_centers.npy')\n",
    "    \n",
    "    # Load camera data\n",
    "    if any([d in prefix for d in ['20221010', '20221012']]):\n",
    "        cf = get_calibration_file(calibration_dir, date='20221010')\n",
    "    else:\n",
    "        cf = get_calibration_file(calibration_dir, date_regexp=date_from_folder_regexp, current_prefix=prefix)\n",
    "\n",
    "    camera_transforms = pickle.load(open(cf,'rb'))\n",
    "    \n",
    "    # Scalars are (x, y, heading, ?)\n",
    "    scalars = np.hstack([crop_origins - thetas[:,2:4], \n",
    "                        (vec_to_angle(thetas[:,:2])[:,None]+np.pi/2)%(2*np.pi),\n",
    "                        thetas[:,4][:,None]])\n",
    "\n",
    "    scalars2d = scalars_to_cameraspace(scalars, camera_transforms['bottom'], intrinsics['bottom'])\n",
    "    vel = np.vstack([np.array([np.nan, np.nan]), np.diff(scalars2d[:, :2], axis=0)])\n",
    "    speed = np.sqrt(np.sum(vel**2, axis=1))\n",
    "    \n",
    "    scalars_npy = prefix+'.scalars.npy'\n",
    "    scalars2d_npy = prefix+'.scalars2d.npy'\n",
    "    \n",
    "    if exists(scalars_npy) and not overwrite:\n",
    "        continue\n",
    "    else:\n",
    "        np.save(scalars_npy, scalars)\n",
    "        \n",
    "    if exists(scalars2d_npy) and not overwrite:\n",
    "        continue\n",
    "    else:\n",
    "        np.save(scalars2d_npy, scalars2d)"
   ]
  },
  {
   "cell_type": "code",
   "execution_count": null,
   "id": "ab4b96f3",
   "metadata": {},
   "outputs": [],
   "source": []
  }
 ],
 "metadata": {
  "kernelspec": {
   "display_name": "Python 3 (ipykernel)",
   "language": "python",
   "name": "python3"
  },
  "language_info": {
   "codemirror_mode": {
    "name": "ipython",
    "version": 3
   },
   "file_extension": ".py",
   "mimetype": "text/x-python",
   "name": "python",
   "nbconvert_exporter": "python",
   "pygments_lexer": "ipython3",
   "version": "3.9.6"
  },
  "varInspector": {
   "cols": {
    "lenName": 16,
    "lenType": 16,
    "lenVar": 40
   },
   "kernels_config": {
    "python": {
     "delete_cmd_postfix": "",
     "delete_cmd_prefix": "del ",
     "library": "var_list.py",
     "varRefreshCmd": "print(var_dic_list())"
    },
    "r": {
     "delete_cmd_postfix": ") ",
     "delete_cmd_prefix": "rm(",
     "library": "var_list.r",
     "varRefreshCmd": "cat(var_dic_list()) "
    }
   },
   "types_to_exclude": [
    "module",
    "function",
    "builtin_function_or_method",
    "instance",
    "_Feature"
   ],
   "window_display": false
  }
 },
 "nbformat": 4,
 "nbformat_minor": 5
}
